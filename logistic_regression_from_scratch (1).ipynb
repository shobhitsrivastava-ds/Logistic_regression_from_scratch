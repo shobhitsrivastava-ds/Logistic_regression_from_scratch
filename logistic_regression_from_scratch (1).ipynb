{
 "cells": [
  {
   "cell_type": "code",
   "execution_count": 7,
   "metadata": {},
   "outputs": [
    {
     "ename": "SyntaxError",
     "evalue": "invalid syntax (<ipython-input-7-1baa6eb229f9>, line 46)",
     "output_type": "error",
     "traceback": [
      "\u001b[1;36m  File \u001b[1;32m\"<ipython-input-7-1baa6eb229f9>\"\u001b[1;36m, line \u001b[1;32m46\u001b[0m\n\u001b[1;33m    return(self.theta)\u001b[0m\n\u001b[1;37m         ^\u001b[0m\n\u001b[1;31mSyntaxError\u001b[0m\u001b[1;31m:\u001b[0m invalid syntax\n"
     ]
    }
   ],
   "source": [
    "import numpy as np\n",
    "import pandas as pd\n",
    "import matplotlib.pyplot as plt\n",
    "class logistic_regression:\n",
    "    def __init__(self,lr=0.001,no_of_iter=1000):\n",
    "        self.lr=lr\n",
    "        self.no_of_iter=no_of_iter\n",
    "        self.threshold=0.5\n",
    "\n",
    "    def inter_x(self,X):\n",
    "        bias=np.ones((X.shape[0],1))\n",
    "        return (np.concatenate(bias,X,axis=1))\n",
    "\n",
    "    def sigmoid(self,z):\n",
    "        return(1/1+np.exp(-z))\n",
    "    #loss function\n",
    "    def loss(self,h,y):\n",
    "        error=0\n",
    "        error=(-y*np.log(h) - (1-y)*np.log(1-h)).mean()\n",
    "        return(error)\n",
    "\n",
    "    def gradient(self,X,h1,y1):\n",
    "        gradient=0\n",
    "        bias_gra=0\n",
    "        n=X.shape[1]\n",
    "        for i in range (n):\n",
    "            gradient  =gradient +(-(2/n)* X[:,i]*(h1-y1))\n",
    "            #bias_gra=-(2/n)*(h1-y1)\n",
    "        return([gradient])\n",
    "    \n",
    "    def fit(self,X,y):\n",
    "        comp_eq=self.inter_x(X)\n",
    "        #initilization of weights\n",
    "        n1=X.shape[1]\n",
    "        self.theta=np.random.randn(n1)\n",
    "        for i in range(self.num_iter):\n",
    "            z=np.dot(comp_eq,self.theta)\n",
    "            h=self.sigmoid(z)\n",
    "            for i in range(X.shape[0]):\n",
    "                gm1=self.gradient(X,h,y)\n",
    "                theta[i] +=self.lr *gm1\n",
    "            if(i % 100 == 0):\n",
    "                z = np.dot(X, self.theta)\n",
    "                h = self.__sigmoid(z)\n",
    "                print(\"loss ={}\".format(self.loss(h, y))\n",
    "        return(self.theta)\n",
    "\n",
    "    def predict(self, X, threshold):\n",
    "        return self.predict_prob(X) >= threshold\n"
   ]
  },
  {
   "cell_type": "code",
   "execution_count": null,
   "metadata": {},
   "outputs": [],
   "source": []
  },
  {
   "cell_type": "code",
   "execution_count": null,
   "metadata": {},
   "outputs": [],
   "source": []
  }
 ],
 "metadata": {
  "kernelspec": {
   "display_name": "Python 3",
   "language": "python",
   "name": "python3"
  },
  "language_info": {
   "codemirror_mode": {
    "name": "ipython",
    "version": 3
   },
   "file_extension": ".py",
   "mimetype": "text/x-python",
   "name": "python",
   "nbconvert_exporter": "python",
   "pygments_lexer": "ipython3",
   "version": "3.7.1"
  }
 },
 "nbformat": 4,
 "nbformat_minor": 2
}
